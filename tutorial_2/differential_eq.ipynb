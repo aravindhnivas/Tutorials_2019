{
 "cells": [
  {
   "cell_type": "markdown",
   "metadata": {},
   "source": [
    "***\n",
    "<div class=\"alert alert-block alert-warning\">\n",
    "<b>Question 7:</b> Translate the model into two differential equations describing the strontium mass $m_N$ and $m_S$.\n",
    "</div>\n",
    "\n",
    "***"
   ]
  },
  {
   "cell_type": "markdown",
   "metadata": {},
   "source": [
    "# Defining and solving differential equations\n",
    "- In this tutorial we will see how to define and solve differential equations, which are later to be used in modelling\n",
    "    1. We will use Python module: `SymPy` to symbolically write math equation.\n",
    "    \n",
    "***"
   ]
  },
  {
   "cell_type": "code",
   "execution_count": 2,
   "metadata": {},
   "outputs": [
    {
     "name": "stdout",
     "output_type": "stream",
     "text": [
      "Requirement already satisfied: sympy in c:\\programdata\\miniconda3\\lib\\site-packages (from -r requirements.txt (line 1)) (1.4)\n",
      "Requirement already satisfied: mpmath>=0.19 in c:\\programdata\\miniconda3\\lib\\site-packages (from sympy->-r requirements.txt (line 1)) (1.1.0)\n"
     ]
    }
   ],
   "source": [
    "!pip install -r requirements.txt"
   ]
  },
  {
   "cell_type": "markdown",
   "metadata": {},
   "source": [
    "## Importing Modules"
   ]
  },
  {
   "cell_type": "code",
   "execution_count": 3,
   "metadata": {},
   "outputs": [],
   "source": [
    "from sympy import init_printing, symbols, dsolve, Eq, Derivative, Function\n",
    "init_printing()"
   ]
  },
  {
   "cell_type": "markdown",
   "metadata": {},
   "source": [
    "## Defining and then distinguishing the parameters as function or constants\n",
    "\n",
    "- Variables:\n",
    "    1. We are defining $k_{strat}$ and $k_{ST}$ as rate constants for transfer within Stratosphere's Hemispheres (North and South) and b/w Stratosphere and Troposphere\n",
    "    2. Time `t` is also defined as variable.\n",
    "- Functions:\n",
    "    - We are defining Mass of Southern and Northern Hemisphere as $m_S$ and $m_N$ as function because we would later use it in differential equation to be solved w.r.t time `t`."
   ]
  },
  {
   "cell_type": "code",
   "execution_count": 4,
   "metadata": {},
   "outputs": [],
   "source": [
    "k_strat, k_ST, t = symbols(\"k_strat, k_ST, t\", real=True) # Real valued rate constants\n",
    "m_S, m_N = symbols(\"m_S, m_N\", cls=Function)"
   ]
  },
  {
   "cell_type": "markdown",
   "metadata": {},
   "source": [
    "## Equation obtained from Box Model"
   ]
  },
  {
   "cell_type": "markdown",
   "metadata": {},
   "source": [
    "***\n",
    "<div class=\"alert alert-block alert-success\">\n",
    "<b>Differential equations:</b> Describing the strontium mass in Southern Hemisphere.\n",
    "</div>\n",
    "\n",
    "***"
   ]
  },
  {
   "cell_type": "markdown",
   "metadata": {},
   "source": [
    "### Derivative form of mass `m` w.r.t time `t`"
   ]
  },
  {
   "cell_type": "code",
   "execution_count": 5,
   "metadata": {},
   "outputs": [
    {
     "data": {
      "image/png": "[encoded data removed]",
      "text/latex": [
       "$\\displaystyle \\frac{d}{d t} \\operatorname{m_{S}}{\\left(t \\right)}$"
      ],
      "text/plain": [
       "d         \n",
       "──(m_S(t))\n",
       "dt        "
      ]
     },
     "execution_count": 5,
     "metadata": {},
     "output_type": "execute_result"
    }
   ],
   "source": [
    "dm_dt = Derivative(m_S(t), t)\n",
    "dm_dt"
   ]
  },
  {
   "cell_type": "markdown",
   "metadata": {},
   "source": [
    "### Solution derived from Box Model (from Question #6)"
   ]
  },
  {
   "cell_type": "code",
   "execution_count": 6,
   "metadata": {},
   "outputs": [
    {
     "data": {
      "image/png": "[encoded data removed]",
      "text/latex": [
       "$\\displaystyle - k_{ST} \\operatorname{m_{S}}{\\left(t \\right)} + k_{strat} \\operatorname{m_{N}}{\\left(t \\right)} - k_{strat} \\operatorname{m_{S}}{\\left(t \\right)}$"
      ],
      "text/plain": [
       "-k_ST⋅m_S(t) + kₛₜᵣₐₜ⋅m_N(t) - kₛₜᵣₐₜ⋅m_S(t)"
      ]
     },
     "execution_count": 6,
     "metadata": {},
     "output_type": "execute_result"
    }
   ],
   "source": [
    "dm_dt_solution_South = -k_strat*m_S(t) + k_strat*m_N(t) - k_ST*m_S(t)\n",
    "dm_dt_solution_South"
   ]
  },
  {
   "cell_type": "markdown",
   "metadata": {},
   "source": [
    "### Combining derivative form with solution as Equation form"
   ]
  },
  {
   "cell_type": "code",
   "execution_count": 7,
   "metadata": {},
   "outputs": [
    {
     "data": {
      "image/png": "[encoded data removed]",
      "text/latex": [
       "$\\displaystyle \\frac{d}{d t} \\operatorname{m_{S}}{\\left(t \\right)} = - k_{ST} \\operatorname{m_{S}}{\\left(t \\right)} + k_{strat} \\operatorname{m_{N}}{\\left(t \\right)} - k_{strat} \\operatorname{m_{S}}{\\left(t \\right)}$"
      ],
      "text/plain": [
       "d                                                        \n",
       "──(m_S(t)) = -k_ST⋅m_S(t) + kₛₜᵣₐₜ⋅m_N(t) - kₛₜᵣₐₜ⋅m_S(t)\n",
       "dt                                                       "
      ]
     },
     "execution_count": 7,
     "metadata": {},
     "output_type": "execute_result"
    }
   ],
   "source": [
    "dmS_dt = Eq(dm_dt, dm_dt_solution_South)\n",
    "dmS_dt"
   ]
  },
  {
   "cell_type": "markdown",
   "metadata": {},
   "source": [
    "## Solving the differential equation:"
   ]
  },
  {
   "cell_type": "code",
   "execution_count": 23,
   "metadata": {},
   "outputs": [
    {
     "data": {
      "image/png": "[encoded data removed]",
      "text/latex": [
       "$\\displaystyle \\operatorname{m_{S}}{\\left(t \\right)} = \\left(C_{1} + k_{strat} \\int \\operatorname{m_{N}}{\\left(t \\right)} e^{k_{ST} t} e^{k_{strat} t}\\, dt\\right) e^{- t \\left(k_{ST} + k_{strat}\\right)}$"
      ],
      "text/plain": [
       "         ⎛            ⌠                            ⎞                    \n",
       "         ⎜            ⎮         k_ST⋅t  kₛₜᵣₐₜ⋅t   ⎟  -t⋅(k_ST + kₛₜᵣₐₜ)\n",
       "m_S(t) = ⎜C₁ + kₛₜᵣₐₜ⋅⎮ m_N(t)⋅ℯ      ⋅ℯ         dt⎟⋅ℯ                  \n",
       "         ⎝            ⌡                            ⎠                    "
      ]
     },
     "execution_count": 23,
     "metadata": {},
     "output_type": "execute_result"
    }
   ],
   "source": [
    "solution_South= dsolve(dmS_dt)\n",
    "solution_South"
   ]
  },
  {
   "cell_type": "markdown",
   "metadata": {},
   "source": [
    "## Substituting values\n",
    "\n",
    "- Define a python dictionary containing values of the parameters"
   ]
  },
  {
   "cell_type": "code",
   "execution_count": 22,
   "metadata": {},
   "outputs": [
    {
     "data": {
      "image/png": "[encoded data removed]",
      "text/latex": [
       "$\\displaystyle \\operatorname{m_{S}}{\\left(t \\right)} = \\left(C_{1} + 0.01 \\int \\operatorname{m_{N}}{\\left(t \\right)} e^{1000.01 t}\\, dt\\right) e^{- 1000.01 t}$"
      ],
      "text/plain": [
       "         ⎛          ⌠                     ⎞            \n",
       "         ⎜          ⎮         1000.01⋅t   ⎟  -1000.01⋅t\n",
       "m_S(t) = ⎜C₁ + 0.01⋅⎮ m_N(t)⋅ℯ          dt⎟⋅ℯ          \n",
       "         ⎝          ⌡                     ⎠            "
      ]
     },
     "execution_count": 22,
     "metadata": {},
     "output_type": "execute_result"
    }
   ],
   "source": [
    "values = {\n",
    "    k_strat: 1e-2,\n",
    "    k_ST: 1e3\n",
    "}\n",
    "\n",
    "eq_with_parameter = dmS_dt.subs(values)\n",
    "dsolve(eq_with_parameter)"
   ]
  },
  {
   "cell_type": "markdown",
   "metadata": {},
   "source": [
    "***\n",
    "<div class=\"alert alert-block alert-warning\">\n",
    "<b>Solve for Northern Hemisphere</b> Using similar approach\n",
    "</div>\n",
    "\n",
    "***"
   ]
  },
  {
   "cell_type": "code",
   "execution_count": null,
   "metadata": {},
   "outputs": [],
   "source": []
  },
  {
   "cell_type": "code",
   "execution_count": null,
   "metadata": {},
   "outputs": [],
   "source": []
  },
  {
   "cell_type": "code",
   "execution_count": null,
   "metadata": {},
   "outputs": [],
   "source": []
  }
 ],
 "metadata": {
  "kernelspec": {
   "display_name": "Python 3",
   "language": "python",
   "name": "python3"
  },
  "language_info": {
   "codemirror_mode": {
    "name": "ipython",
    "version": 3
   },
   "file_extension": ".py",
   "mimetype": "text/x-python",
   "name": "python",
   "nbconvert_exporter": "python",
   "pygments_lexer": "ipython3",
   "version": "3.7.4"
  }
 },
 "nbformat": 4,
 "nbformat_minor": 4
}
