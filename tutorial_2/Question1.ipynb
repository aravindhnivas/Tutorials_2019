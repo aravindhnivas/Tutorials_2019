{
 "cells": [
  {
   "cell_type": "code",
   "execution_count": 1,
   "metadata": {},
   "outputs": [
    {
     "name": "stdout",
     "output_type": "stream",
     "text": [
      "Requirement already satisfied: sympy in c:\\programdata\\miniconda3\\lib\\site-packages (from -r requirements.txt (line 1)) (1.4)\n",
      "Requirement already satisfied: mpmath>=0.19 in c:\\programdata\\miniconda3\\lib\\site-packages (from sympy->-r requirements.txt (line 1)) (1.1.0)\n"
     ]
    }
   ],
   "source": [
    "!pip install -r requirements.txt"
   ]
  },
  {
   "cell_type": "code",
   "execution_count": 105,
   "metadata": {},
   "outputs": [],
   "source": [
    "from sympy import init_printing, symbols, dsolve, Eq, Derivative, Function, integrate, oo\n",
    "init_printing()"
   ]
  },
  {
   "cell_type": "code",
   "execution_count": 33,
   "metadata": {},
   "outputs": [],
   "source": [
    "E, t, k = symbols(\"E, t, k\", real=True)\n",
    "m = symbols(\"m\", cls=Function)"
   ]
  },
  {
   "cell_type": "code",
   "execution_count": 122,
   "metadata": {},
   "outputs": [
    {
     "data": {
      "image/png": "[encoded data removed]",
      "text/latex": [
       "$\\displaystyle \\frac{d}{d t} m{\\left(t \\right)} = E - k m{\\left(t \\right)}$"
      ],
      "text/plain": [
       "d                    \n",
       "──(m(t)) = E - k⋅m(t)\n",
       "dt                   "
      ]
     },
     "execution_count": 122,
     "metadata": {},
     "output_type": "execute_result"
    }
   ],
   "source": [
    "soln = E - k*m(t)\n",
    "eq1 = Eq(Derivative(m(t), t), soln)\n",
    "eq1"
   ]
  },
  {
   "cell_type": "code",
   "execution_count": 132,
   "metadata": {},
   "outputs": [
    {
     "data": {
      "image/png": "[encoded data removed]",
      "text/latex": [
       "$\\displaystyle m{\\left(t \\right)} = \\frac{E + e^{k \\left(C_{1} - t\\right)}}{k}$"
      ],
      "text/plain": [
       "            k⋅(C₁ - t)\n",
       "       E + ℯ          \n",
       "m(t) = ───────────────\n",
       "              k       "
      ]
     },
     "execution_count": 132,
     "metadata": {},
     "output_type": "execute_result"
    }
   ],
   "source": [
    "dsolve(eq1)"
   ]
  },
  {
   "cell_type": "code",
   "execution_count": 124,
   "metadata": {},
   "outputs": [
    {
     "data": {
      "text/plain": [
       "{'nth_linear_constant_coeff_variation_of_parameters': Eq(m(t), (C1 - Piecewise((-E*exp(k*t)/k, Ne(k, 0)), (-E*t, True)))*exp(-k*t)),\n",
       " 'nth_linear_constant_coeff_undetermined_coefficients': Eq(m(t), C1*exp(-k*t) + E/k),\n",
       " '1st_power_series': Eq(m(t), t*(-C1*k + E) - k*t**2*(-C1*k + E)/2 + k**2*t**3*(-C1*k + E)/6 - k**3*t**4*(-C1*k + E)/24 + k**4*t**5*(-C1*k + E)/120 + C1 + O(t**6)),\n",
       " '1st_linear': Eq(m(t), (C1 + Piecewise((E*exp(k*t)/k, Ne(k, 0)), (E*t, True)))*exp(-k*t)),\n",
       " 'Bernoulli': Eq(m(t), (C1 - Piecewise((-E*exp(k*t)/k, Ne(k, 0)), (-E*t, True)))*exp(-k*t)),\n",
       " 'nth_linear_constant_coeff_variation_of_parameters_Integral': Eq(m(t), (C1 - Integral(-E*exp(k*t), t))*exp(-k*t)),\n",
       " 'Bernoulli_Integral': Eq(m(t), (C1 - Integral(-E*exp(Integral(k, t)), t))*exp(-Integral(k, t))),\n",
       " '1st_linear_Integral': Eq(m(t), (C1 + Integral(E*exp(Integral(k, t)), t))*exp(-Integral(k, t))),\n",
       " 'lie_group': Eq(m(t), Piecewise(((C1 + E*exp(k*t)/k)*exp(-k*t), Ne(k, 0)), ((C1 + E*t)*exp(-k*t), True))),\n",
       " 'separable_Integral': Eq(Integral(1/(_y*k - E), (_y, m(t))), C1 + Integral(-1, t)),\n",
       " 'almost_linear': Eq(m(t), (C1 + Piecewise((E*exp(k*t)/k, Ne(k, 0)), (E*t, True)))*exp(-k*t)),\n",
       " 'separable': Eq(m(t), (E + exp(k*(C1 - t)))/k),\n",
       " 'almost_linear_Integral': Eq(m(t), (C1 + Integral(E*exp(Integral(k, t)), t))*exp(-Integral(k, t))),\n",
       " 'best': Eq(m(t), (C1 - Piecewise((-E*exp(k*t)/k, Ne(k, 0)), (-E*t, True)))*exp(-k*t)),\n",
       " 'best_hint': 'Bernoulli',\n",
       " 'default': 'separable',\n",
       " 'order': 1}"
      ]
     },
     "execution_count": 124,
     "metadata": {},
     "output_type": "execute_result"
    }
   ],
   "source": [
    "eq2 = Eq(m(t).diff(t), soln)\n",
    "dsolve(eq2, hint=\"all\")"
   ]
  },
  {
   "cell_type": "code",
   "execution_count": 137,
   "metadata": {},
   "outputs": [
    {
     "data": {
      "image/png": "[encoded data removed]",
      "text/latex": [
       "$\\displaystyle m{\\left(t \\right)} = \\int \\left(E - k m{\\left(t \\right)}\\right)\\, dt$"
      ],
      "text/plain": [
       "       ⌠                \n",
       "m(t) = ⎮ (E - k⋅m(t)) dt\n",
       "       ⌡                "
      ]
     },
     "execution_count": 137,
     "metadata": {},
     "output_type": "execute_result"
    }
   ],
   "source": [
    "integrate(eq1, (t))"
   ]
  },
  {
   "cell_type": "code",
   "execution_count": null,
   "metadata": {},
   "outputs": [],
   "source": []
  },
  {
   "cell_type": "code",
   "execution_count": null,
   "metadata": {},
   "outputs": [],
   "source": []
  },
  {
   "cell_type": "code",
   "execution_count": null,
   "metadata": {},
   "outputs": [],
   "source": []
  }
 ],
 "metadata": {
  "kernelspec": {
   "display_name": "Python 3",
   "language": "python",
   "name": "python3"
  },
  "language_info": {
   "codemirror_mode": {
    "name": "ipython",
    "version": 3
   },
   "file_extension": ".py",
   "mimetype": "text/x-python",
   "name": "python",
   "nbconvert_exporter": "python",
   "pygments_lexer": "ipython3",
   "version": "3.7.4"
  }
 },
 "nbformat": 4,
 "nbformat_minor": 4
}
